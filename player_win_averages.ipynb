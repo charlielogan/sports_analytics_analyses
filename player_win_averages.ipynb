{
 "cells": [
  {
   "cell_type": "code",
   "execution_count": 69,
   "metadata": {},
   "outputs": [],
   "source": [
    "fileref = open(\"mlb2006.htm\", 'r')\n",
    "text = fileref.readlines()"
   ]
  },
  {
   "cell_type": "code",
   "execution_count": 88,
   "metadata": {},
   "outputs": [],
   "source": [
    "detroit = []\n",
    "for line in text[24:]:\n",
    "    if \"DET\" in line:\n",
    "        detroit.append(line)"
   ]
  },
  {
   "cell_type": "code",
   "execution_count": 83,
   "metadata": {},
   "outputs": [],
   "source": [
    "detroit\n",
    "det_pitchers = [player for player in detroit if (\"DET,P\" in player) or ('Rodney' in player) or ('Spurling' in player)]\n",
    "det_hitters = [player for player in detroit if player not in det_pitchers]\n",
    "det_hitters.append(det_pitchers[2])\n",
    "det_hitters.append(det_pitchers[1])\n",
    "det_hitters.append(det_pitchers[0])\n",
    "del det_pitchers[0:3]"
   ]
  },
  {
   "cell_type": "code",
   "execution_count": 84,
   "metadata": {},
   "outputs": [
    {
     "name": "stdout",
     "output_type": "stream",
     "text": [
      "['91', 'Rodney,Fernando,R,R,DET', '0.536', '16419', '14188', '+2231', '/', '317', '=', '+7', 'Rodney,Fernando,R,R,DET', '91']\n"
     ]
    }
   ],
   "source": [
    "print(det_pitchers[1].split())\n",
    "pitchers_total = 0\n",
    "for pitcher in det_pitchers:\n",
    "    if pitcher.split()[5][0] == '-':\n",
    "        pitchers_total -= int(pitcher.split()[5][1:])\n",
    "    else:\n",
    "        pitchers_total += int(pitcher.split()[5][1:])\n",
    "hitters_total = 0\n",
    "for hitter in det_hitters:\n",
    "    if hitter.split()[5][0] == '-':\n",
    "        hitters_total -= int(hitter.split()[5][1:])\n",
    "    else:\n",
    "        hitters_total += int(hitter.split()[5][1:])"
   ]
  },
  {
   "cell_type": "code",
   "execution_count": 85,
   "metadata": {},
   "outputs": [
    {
     "name": "stdout",
     "output_type": "stream",
     "text": [
      "Pitcher's total: 11756\n",
      "Hitters's total: 484\n"
     ]
    }
   ],
   "source": [
    "print(\"Pitcher's total: \" + str(pitchers_total))\n",
    "print(\"Hitters's total: \" + str(hitters_total))"
   ]
  },
  {
   "cell_type": "code",
   "execution_count": 86,
   "metadata": {},
   "outputs": [
    {
     "data": {
      "text/plain": [
       "[('Zumaya,Joel,R,R,DET,P', '+7246'),\n",
       " ('Rodney,Fernando,R,R,DET', '+2231'),\n",
       " ('Jones,Todd,L,R,DET,P', '+2047'),\n",
       " ('Rogers,Kenny,L,L,DET,P', '+1486'),\n",
       " ('Maroth,Mike,L,L,DET,P', '+1432'),\n",
       " ('Walker,Jamie,L,L,DET,P', '+948'),\n",
       " ('Tata,Jordan,R,R,DET,P', '+95'),\n",
       " ('Durbin,Chad,B,R,DET,P', '+56'),\n",
       " ('Seay,Bobby,L,L,DET,P', '-12'),\n",
       " ('Colon,Roman,R,R,DET,P', '-192'),\n",
       " ('Ledezma,Wil,L,L,DET,P', '-272'),\n",
       " ('Lewis,Colby,R,R,DET,P', '-336'),\n",
       " ('Miller,Andrew,R,L,DET,P', '-338'),\n",
       " ('Spurling,Chris,R,R,DET,', '-432'),\n",
       " ('Miner,Zach,R,R,DET,P', '-1008'),\n",
       " ('Grilli,Jason,R,R,DET,P', '-1195'),\n",
       " ('TOTAL', 11756)]"
      ]
     },
     "execution_count": 86,
     "metadata": {},
     "output_type": "execute_result"
    }
   ],
   "source": [
    "pitcher_list = [(player.split()[1], player.split()[5]) for player in det_pitchers]\n",
    "pitcher_list.append((\"TOTAL\", pitchers_total))\n",
    "pitcher_list"
   ]
  },
  {
   "cell_type": "code",
   "execution_count": 87,
   "metadata": {},
   "outputs": [
    {
     "data": {
      "text/plain": [
       "[('Guillen,Carlos,B,R,DET,', '+5619'),\n",
       " ('Ordonez,Magglio,R,R,DETF', '+2765'),\n",
       " ('Monroe,Craig,R,R,DET,OF', '+2346'),\n",
       " ('Thames,Marcus,R,R,DET,O', '+2137'),\n",
       " ('Clevlen,Brent,R,R,DET,O', '+293'),\n",
       " ('Stairs,Matt,L,R,DET,OF', '+164'),\n",
       " ('Inge,Brandon,R,R,DET,3B', '+15'),\n",
       " ('Rabelo,Mike,B,R,DET,C', '+0'),\n",
       " ('Hooper,Kevin,R,R,DET,2B', '-79'),\n",
       " ('Polanco,Placido,R,R,DETS', '-113'),\n",
       " ('Wilson,Vance,R,R,DET,C', '-221'),\n",
       " ('Gomez,Alexis,L,L,DET,OF', '-274'),\n",
       " ('Hannahan,Jack,L,R,DET,3', '-512'),\n",
       " ('Casey,Sean,L,R,DET,1B', '-1447'),\n",
       " ('Santiago,Ramon,B,R,DET,', '-1486'),\n",
       " ('Shelton,Chris,R,R,DET,1', '-1742'),\n",
       " ('Young,Dmitri,B,R,DET,OF', '-2102'),\n",
       " ('Rodriguez,Ivan,R,R,DET,', '-2385'),\n",
       " ('Infante,Omar,R,R,DET,SS', '-2438'),\n",
       " ('Rogers,Kenny,L,L,DET,P', '-92'),\n",
       " ('Rodney,Fernando,R,R,DET', '+0'),\n",
       " ('Miner,Zach,R,R,DET,P', '+36'),\n",
       " ('TOTAL', 484)]"
      ]
     },
     "execution_count": 87,
     "metadata": {},
     "output_type": "execute_result"
    }
   ],
   "source": [
    "hitter_list = [(player.split()[1], player.split()[5]) for player in det_hitters]\n",
    "hitter_list.append((\"TOTAL\", hitters_total))\n",
    "hitter_list"
   ]
  },
  {
   "cell_type": "code",
   "execution_count": null,
   "metadata": {},
   "outputs": [],
   "source": []
  }
 ],
 "metadata": {
  "kernelspec": {
   "display_name": "Python 3",
   "language": "python",
   "name": "python3"
  },
  "language_info": {
   "codemirror_mode": {
    "name": "ipython",
    "version": 3
   },
   "file_extension": ".py",
   "mimetype": "text/x-python",
   "name": "python",
   "nbconvert_exporter": "python",
   "pygments_lexer": "ipython3",
   "version": "3.7.1"
  }
 },
 "nbformat": 4,
 "nbformat_minor": 4
}
